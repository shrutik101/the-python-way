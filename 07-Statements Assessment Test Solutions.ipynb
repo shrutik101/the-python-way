{
  "metadata": {
    "kernelspec": {
      "name": "python",
      "display_name": "Python (Pyodide)",
      "language": "python"
    },
    "language_info": {
      "codemirror_mode": {
        "name": "python",
        "version": 3
      },
      "file_extension": ".py",
      "mimetype": "text/x-python",
      "name": "python",
      "nbconvert_exporter": "python",
      "pygments_lexer": "ipython3",
      "version": "3.8"
    }
  },
  "nbformat_minor": 4,
  "nbformat": 4,
  "cells": [
    {
      "cell_type": "markdown",
      "source": "___\n\n<a href='https://www.udemy.com/user/joseportilla/'><img src='../Pierian_Data_Logo.png'/></a>\n___\n<center><em>Content Copyright by Pierian Data</em></center>",
      "metadata": {}
    },
    {
      "cell_type": "markdown",
      "source": "# Statements Assessment Test\nLet's test your knowledge!",
      "metadata": {
        "collapsed": true,
        "jupyter": {
          "outputs_hidden": true
        }
      }
    },
    {
      "cell_type": "markdown",
      "source": "_____\n**Use <code>for</code>, .split(), and <code>if</code> to create a Statement that will print out words that start with 's':**",
      "metadata": {}
    },
    {
      "cell_type": "code",
      "source": "st = 'Print only the words that start with s in this sentence'",
      "metadata": {
        "trusted": true
      },
      "outputs": [],
      "execution_count": 6
    },
    {
      "cell_type": "code",
      "source": "for word in st.split():\n    if word.startswith('s'):\n        print(word)",
      "metadata": {
        "trusted": true
      },
      "outputs": [
        {
          "name": "stdout",
          "text": "start\ns\nsentence\n",
          "output_type": "stream"
        }
      ],
      "execution_count": 11
    },
    {
      "cell_type": "markdown",
      "source": "______\n**Use range() to print all the even numbers from 0 to 10.**",
      "metadata": {}
    },
    {
      "cell_type": "code",
      "source": "for x in range(0,11,2):\n    print(x)",
      "metadata": {
        "trusted": true
      },
      "outputs": [
        {
          "name": "stdout",
          "text": "0\n2\n4\n6\n8\n10\n",
          "output_type": "stream"
        }
      ],
      "execution_count": 24
    },
    {
      "cell_type": "markdown",
      "source": "___\n**Use a List Comprehension to create a list of all numbers between 1 and 50 that are divisible by 3.**",
      "metadata": {}
    },
    {
      "cell_type": "code",
      "source": "numbers_divisible_by_3 = [x for x in range(1,50) if x%3==0]\nprint(numbers_divisible_by_3)",
      "metadata": {
        "trusted": true
      },
      "outputs": [
        {
          "name": "stdout",
          "text": "[3, 6, 9, 12, 15, 18, 21, 24, 27, 30, 33, 36, 39, 42, 45, 48]\n",
          "output_type": "stream"
        }
      ],
      "execution_count": 29
    },
    {
      "cell_type": "markdown",
      "source": "_____\n**Go through the string below and if the length of a word is even print \"even!\"**",
      "metadata": {}
    },
    {
      "cell_type": "code",
      "source": "st = 'Print every word in this sentence that has an even number of letters'",
      "metadata": {
        "trusted": true
      },
      "outputs": [],
      "execution_count": 31
    },
    {
      "cell_type": "code",
      "source": "for word in st.split():\n    if len(word)%2==0:\n        print('{} is even!'.format(word))\n",
      "metadata": {
        "trusted": true
      },
      "outputs": [
        {
          "name": "stdout",
          "text": "word is even!\nin is even!\nthis is even!\nsentence is even!\nthat is even!\nan is even!\neven is even!\nnumber is even!\nof is even!\n",
          "output_type": "stream"
        }
      ],
      "execution_count": 35
    },
    {
      "cell_type": "markdown",
      "source": "____\n**Write a program that prints the integers from 1 to 100. But for multiples of three print \"Fizz\" instead of the number, and for the multiples of five print \"Buzz\". For numbers which are multiples of both three and five print \"FizzBuzz\".**",
      "metadata": {}
    },
    {
      "cell_type": "code",
      "source": "my_list = []\nfor number in range(1,101):\n    if number%3==0 and number%5==0:\n        my_list.append('FizzBuzz')\n    elif number%3==0:\n        my_list.append('Fizz')\n    elif number%5==0:\n        my_list.append('Buzz')\n    else:\n        my_list.append(number)\nprint(my_list)        ",
      "metadata": {
        "trusted": true
      },
      "outputs": [
        {
          "name": "stdout",
          "text": "[1, 2, 'Fizz', 4, 'Buzz', 'Fizz', 7, 8, 'Fizz', 'Buzz', 11, 'Fizz', 13, 14, 'FizzBuzz', 16, 17, 'Fizz', 19, 'Buzz', 'Fizz', 22, 23, 'Fizz', 'Buzz', 26, 'Fizz', 28, 29, 'FizzBuzz', 31, 32, 'Fizz', 34, 'Buzz', 'Fizz', 37, 38, 'Fizz', 'Buzz', 41, 'Fizz', 43, 44, 'FizzBuzz', 46, 47, 'Fizz', 49, 'Buzz', 'Fizz', 52, 53, 'Fizz', 'Buzz', 56, 'Fizz', 58, 59, 'FizzBuzz', 61, 62, 'Fizz', 64, 'Buzz', 'Fizz', 67, 68, 'Fizz', 'Buzz', 71, 'Fizz', 73, 74, 'FizzBuzz', 76, 77, 'Fizz', 79, 'Buzz', 'Fizz', 82, 83, 'Fizz', 'Buzz', 86, 'Fizz', 88, 89, 'FizzBuzz', 91, 92, 'Fizz', 94, 'Buzz', 'Fizz', 97, 98, 'Fizz', 'Buzz']\n",
          "output_type": "stream"
        }
      ],
      "execution_count": 40
    },
    {
      "cell_type": "markdown",
      "source": "____\n**Use List Comprehension to create a list of the first letters of every word in the string below:**",
      "metadata": {}
    },
    {
      "cell_type": "code",
      "source": "st = 'Create a list of the first letters of every word in this string'",
      "metadata": {
        "trusted": true
      },
      "outputs": [],
      "execution_count": 41
    },
    {
      "cell_type": "code",
      "source": "mylist = [word[0] for word in st.split()]\nprint(mylist)",
      "metadata": {
        "trusted": true
      },
      "outputs": [
        {
          "name": "stdout",
          "text": "['C', 'a', 'l', 'o', 't', 'f', 'l', 'o', 'e', 'w', 'i', 't', 's']\n",
          "output_type": "stream"
        }
      ],
      "execution_count": 48
    },
    {
      "cell_type": "markdown",
      "source": "### Great Job!",
      "metadata": {}
    }
  ]
}