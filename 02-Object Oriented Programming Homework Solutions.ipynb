{
  "metadata": {
    "kernelspec": {
      "name": "python",
      "display_name": "Python (Pyodide)",
      "language": "python"
    },
    "language_info": {
      "codemirror_mode": {
        "name": "python",
        "version": 3
      },
      "file_extension": ".py",
      "mimetype": "text/x-python",
      "name": "python",
      "nbconvert_exporter": "python",
      "pygments_lexer": "ipython3",
      "version": "3.8"
    }
  },
  "nbformat_minor": 4,
  "nbformat": 4,
  "cells": [
    {
      "cell_type": "markdown",
      "source": "___\n\n<a href='https://www.udemy.com/user/joseportilla/'><img src='../Pierian_Data_Logo.png'/></a>\n___\n<center><em>Content Copyright by Pierian Data</em></center>",
      "metadata": {}
    },
    {
      "cell_type": "markdown",
      "source": "# Object Oriented Programming\n## Homework Assignment\n\n#### Problem 1\nFill in the Line class methods to accept coordinates as a pair of tuples and return the slope and distance of the line.",
      "metadata": {}
    },
    {
      "cell_type": "code",
      "source": "class Line:\n    \n    def __init__(self,coor1,coor2):\n        self.coor1 = coor1\n        self.coor2 = coor2\n    \n    def distance(self):\n        x1,y1 = self.coor1\n        x2,y2 = self.coor2\n        return ((x2-x1)**2 + (y2-y1)**2)**0.5\n    \n    def slope(self):\n        x1,y1 = self.coor1\n        x2,y2 = self.coor2\n        return (y2-y1)/(x2-x1)",
      "metadata": {
        "trusted": true
      },
      "outputs": [],
      "execution_count": 1
    },
    {
      "cell_type": "code",
      "source": "# EXAMPLE OUTPUT\n\ncoordinate1 = (3,2)\ncoordinate2 = (8,10)\n\nli = Line(coordinate1,coordinate2)",
      "metadata": {
        "trusted": true
      },
      "outputs": [],
      "execution_count": 2
    },
    {
      "cell_type": "code",
      "source": "li.distance()",
      "metadata": {
        "trusted": true
      },
      "outputs": [
        {
          "execution_count": 3,
          "output_type": "execute_result",
          "data": {
            "text/plain": "9.433981132056603"
          },
          "metadata": {}
        }
      ],
      "execution_count": 3
    },
    {
      "cell_type": "code",
      "source": "li.slope()",
      "metadata": {
        "trusted": true
      },
      "outputs": [
        {
          "execution_count": 4,
          "output_type": "execute_result",
          "data": {
            "text/plain": "1.6"
          },
          "metadata": {}
        }
      ],
      "execution_count": 4
    },
    {
      "cell_type": "markdown",
      "source": "________\n#### Problem 2",
      "metadata": {}
    },
    {
      "cell_type": "markdown",
      "source": "Fill in the class ",
      "metadata": {}
    },
    {
      "cell_type": "code",
      "source": "class Cylinder:\n    pi = 3.14\n    \n    def __init__(self,height=1,radius=1):\n        self.height = height\n        self.radius = radius\n        \n    def volume(self):\n        h = self.height\n        r = self.radius\n        return Cylinder.pi*(r**2)*h \n    \n    def surface_area(self):\n        h = self.height\n        r = self.radius\n        return 2*Cylinder.pi*r*(h+r)",
      "metadata": {
        "trusted": true
      },
      "outputs": [],
      "execution_count": 12
    },
    {
      "cell_type": "code",
      "source": "# EXAMPLE OUTPUT\nc = Cylinder(2,3)",
      "metadata": {
        "trusted": true
      },
      "outputs": [],
      "execution_count": 13
    },
    {
      "cell_type": "code",
      "source": "c.volume()",
      "metadata": {
        "trusted": true
      },
      "outputs": [
        {
          "execution_count": 14,
          "output_type": "execute_result",
          "data": {
            "text/plain": "56.52"
          },
          "metadata": {}
        }
      ],
      "execution_count": 14
    },
    {
      "cell_type": "code",
      "source": "c.surface_area()",
      "metadata": {
        "trusted": true
      },
      "outputs": [
        {
          "execution_count": 15,
          "output_type": "execute_result",
          "data": {
            "text/plain": "94.2"
          },
          "metadata": {}
        }
      ],
      "execution_count": 15
    },
    {
      "cell_type": "code",
      "source": "",
      "metadata": {
        "trusted": true
      },
      "outputs": [],
      "execution_count": null
    }
  ]
}